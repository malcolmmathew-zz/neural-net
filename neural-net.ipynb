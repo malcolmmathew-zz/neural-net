{
 "cells": [
  {
   "cell_type": "markdown",
   "metadata": {},
   "source": [
    "# Tutorial for Neural Networks\n",
    "\n",
    "The purpose of this notebook is to create an implementation of a simple  artificial neural network for learning purposes. \n",
    "\n",
    "Here are the main concepts associated with an ANN:\n",
    "- Activation Function \n",
    "- Forward Propagation\n",
    "- Gradient Descent\n",
    "- Backpropagation"
   ]
  },
  {
   "cell_type": "code",
   "execution_count": 3,
   "metadata": {
    "collapsed": true
   },
   "outputs": [],
   "source": [
    "import numpy as np"
   ]
  },
  {
   "cell_type": "code",
   "execution_count": 4,
   "metadata": {
    "collapsed": true
   },
   "outputs": [],
   "source": [
    "X = np.array(([3,5, 8],[5,1, 10]), dtype=float)\n",
    "y = np.array(([75],[82]), dtype=float)"
   ]
  },
  {
   "cell_type": "code",
   "execution_count": 35,
   "metadata": {
    "collapsed": true
   },
   "outputs": [],
   "source": [
    "# Normalize the data\n",
    "X = X/np.amax(X, axis=0)\n",
    "y = y/100"
   ]
  },
  {
   "cell_type": "code",
   "execution_count": 37,
   "metadata": {
    "collapsed": false
   },
   "outputs": [
    {
     "data": {
      "text/plain": [
       "array([[ 0.6,  1. ,  0.8],\n",
       "       [ 1. ,  0.2,  1. ]])"
      ]
     },
     "execution_count": 37,
     "metadata": {},
     "output_type": "execute_result"
    }
   ],
   "source": [
    "X"
   ]
  },
  {
   "cell_type": "code",
   "execution_count": 127,
   "metadata": {
    "collapsed": false
   },
   "outputs": [],
   "source": [
    "class NeuralNet(object):\n",
    "    def __init__(self):\n",
    "        self.num_layers = 3\n",
    "        self.input_layer_size = 3\n",
    "        self.output_layer_size = 1\n",
    "        self.hidden_layer_size  = 3\n",
    "        \n",
    "#         self.w = []\n",
    "#         for i in range(num_layers-1):\n",
    "#             self.w[i] = np.random.randn(self.arr[i], self.arr[i+1])\n",
    "        self.w1 = np.random.randn(self.hidden_layer_size, self.input_layer_size + 1)    \n",
    "        self.w2 = np.random.randn(self.output_layer_size, self.hidden_layer_size + 1)\n",
    "        self.w = [self.w1, self.w2]\n",
    "\n",
    "    def forward_propagation(self, X):\n",
    "        for l in range(self.num_layers-1):\n",
    "            if l == 0:\n",
    "                bias_values = np.array([1 for r in range(X.shape[0])]).reshape(X.shape[0], 1)\n",
    "                node_in = np.concatenate((bias_values, X), axis=1)\n",
    "                node_in = node_in.reshape(node_in.shape[1], node_in.shape[0])\n",
    "            else:\n",
    "                bias_values = np.array([1 for r in range(h.shape[1])]).reshape(1, h.shape[1])\n",
    "                node_in = np.concatenate((h, bias_values), axis=0)\n",
    "                \n",
    "            z = np.dot(self.w[l], node_in)            \n",
    "            h = self.sigmoid(z)     \n",
    "\n",
    "        return h\n",
    "\n",
    "    def sigmoid(self, z):\n",
    "        return 1/(1+np.exp(-z))\n",
    "    \n",
    "    def sigmoid_derivative(self, z):\n",
    "        return np.exp(-z)/(1+np.exp(-z)**2)\n",
    "    \n",
    "    def cost_function_derivative(self, X, y):\n",
    "        self.y_hat = self.forward_propagation(X)\n",
    "        \n",
    "        delta3 = np.multiply(-(y-self.y_hat), self.sigmoid_derivative(self.z3))\n",
    "        dj_dw2 = np.dot(self.a2.T, delta3)\n",
    "        \n",
    "        delta2 = np.dot(delta3, self.w2.T)*self.sigmoid_derivative(self.z2)\n",
    "        dj_dw1 = np.dot(X.T, delta2)\n",
    "        \n",
    "        return dj_dw1, dj_dw2"
   ]
  },
  {
   "cell_type": "code",
   "execution_count": 128,
   "metadata": {
    "collapsed": false
   },
   "outputs": [
    {
     "name": "stdout",
     "output_type": "stream",
     "text": [
      "[[ 0.68330412  0.74938673]]\n",
      "[[ 0.0075]\n",
      " [ 0.0082]]\n"
     ]
    }
   ],
   "source": [
    "NN = NeuralNet()\n",
    "print NN.forward_propagation(X)\n",
    "print y"
   ]
  },
  {
   "cell_type": "markdown",
   "metadata": {},
   "source": [
    "## Activation Function\n",
    "There are a few important parts to building out a basic Artificial Neural Network. The first thing to do is define the concept of an activation/sigmoid function.\n",
    "\n",
    "$$f(z)= \\frac{1}{1+\\exp(-x)}$$\n",
    "\n",
    "This is the function applied to the inputs of all nodes in the network  and its result is passed to the next layer as an input. "
   ]
  },
  {
   "cell_type": "code",
   "execution_count": 19,
   "metadata": {
    "collapsed": true
   },
   "outputs": [],
   "source": [
    "def sigmoid(self, z):\n",
    "    \"\"\"Given an input, returns the result of the sigmoid function.\"\"\"\n",
    "    return 1/(1+np.exp(-z))"
   ]
  },
  {
   "cell_type": "markdown",
   "metadata": {},
   "source": [
    "## Forward Propagation\n",
    "\n",
    "This activation function has a weight assigned to its input for each individual connection from one node to another. The sum of these results become the output to feed into the next layer of nodes. This concept is called forward propagation.\n",
    "\n",
    "Implementation-wise, we use numpy arrays and matrix operations to make this function simpler and more time-efficient."
   ]
  },
  {
   "cell_type": "code",
   "execution_count": 57,
   "metadata": {
    "collapsed": true
   },
   "outputs": [],
   "source": [
    "def forward_propagation(self, X):\n",
    "    for l in range(self.num_layers-1):\n",
    "        if l == 0:\n",
    "            node_in = X.T\n",
    "        else:\n",
    "            node_in = h\n",
    "        z = np.dot(self.w[l],node_in) # + b[l] add bias later\n",
    "        h = self.sigmoid(z)           \n",
    "    return h"
   ]
  },
  {
   "cell_type": "markdown",
   "metadata": {
    "collapsed": true
   },
   "source": [
    "## Gradient Descent and Cost Function\n",
    "\n",
    "We now have a function that will take an input based on initial arbitrarily generated weights. This will produce a value that makes a prediction of what the data should be. However, this is bound to be off by a certain measure. This difference between a predicted and actual value is a cost, which we will strictly define through a cost function.\n",
    "\n",
    "$$J(w) = \\frac{1}{m}\\sum \\frac{1}{2} (y^{z} - h^{n_{l}}(x^{z}))^{2} $$\n",
    "\n",
    "Here, m represents the number of training samples and $h^{n_{l}}$ is the output of the final activation layer.\n",
    "\n",
    "We can attempt to minimize this cost function iteratively by calculating its derivative and using that gradient to iteratively move through the function to find its minimum value, aka the best predictor of the actual data. We are specifically manipulating each weight in the network to achieve this, shown in the computation below:\n",
    "\n",
    "$$w^{(l)}_{ij} = w^{(l)}_{ij} - \\alpha \\frac{\\partial}{\\partial  w^{(l)}_{ij}}J(w)$$\n",
    "\n",
    "Here, $\\alpha$ represents the step size that indicates the magnitude of the change in weight. It will determine the speed at which gradient descent converges to a solution. To stop gradient descent, we will need to define how accurate (how small the error) the model should be. \n",
    "\n",
    "Also, i and j refers to the nodes that the weights are associated with, where i is the destination node and j is the source. "
   ]
  },
  {
   "cell_type": "markdown",
   "metadata": {},
   "source": [
    "We'll delve into some math now to show how a partial derivative for a given $w_{ij}$ is cancelled. Let's look at $\\frac{\\partial J}{\\partial  w^{(2)}_{12}}$. We can separate this into a chain of derivatives.\n",
    "\n",
    "Let's make some definitions first. we will say the output layer function looks like the following:\n",
    "\n",
    "$$h_{1}^{3} = f(w_{11}^{2}h_{1}^{2} + w_{12}^{2}h_{2}^{2} + w_{13}^{2}h_{3}^{2}) = f(z_{1}^{(2)})$$\n",
    "\n",
    "So, we can can define our derivative as:\n",
    "\n",
    "$$\\frac{\\partial J}{\\partial w^{(2)}_{12}} = \\frac{\\partial J}{\\partial h^{(3)}_{1}} \\frac{\\partial h^{(3)}_{1}}{\\partial z_{1}^{2}} \\frac{\\partial z_{1}^{2}}{\\partial w^{(2)}_{12}} $$\n",
    "\n",
    "We will now evaluate each one separately. We can simplify the third term to:\n",
    "\n",
    "$$\\frac{\\partial z_{1}^{2}}{\\partial w^{(2)}_{12}} = h_{2}^{2}$$\n",
    "\n",
    "For the second term, we simply require the derivative of the activation function defined earlier:\n",
    "\n",
    "$$\\frac{\\partial h}{\\partial z} = f(z)(1 - f(z))$$\n",
    "\n",
    "The final term is the derivative of the cost function with respect to the output of the activation function. This result is:\n",
    "\n",
    "$$\\frac{\\partial J}{\\partial h} = -(y_{1} - h_{1}^{(3)})$$\n",
    "\n",
    "So, the product of thee three results will give us the derivative for that particular weight. \n",
    "\n",
    "To generalize this result, let's define a new variable $\\delta$:\n",
    "\n",
    "$$\\delta^{(n_{l})}_{i} = -(y_{i}-h_{i}^{(n_{l})})f'(z_{i}^{(n_{l})})$$\n",
    "\n",
    "Extrapolating for any given connection ij, we can see that:\n",
    "\n",
    "$$\\frac {\\partial J(W)}{\\partial W_{ij}^{(l)}} = h_{j}^{l} \n",
    "\\delta_{i}^{(l+1)}$$\n",
    "\n"
   ]
  },
  {
   "cell_type": "markdown",
   "metadata": {},
   "source": [
    "## Backpropagation\n",
    "\n",
    "The above derivations work well for the weights that are closest to the output layer. We need a better way to update the weights in deeper layers. We achieve this with the backpropagation method. \n",
    "\n",
    "We need to propagate the $\\delta^{(n_{l})}_{i}$ to previous layers. The delta function of nodes from previous layers will be the delta function of the next layer multiplied by the connecting weight from the source to destination node. \n",
    "\n",
    "$$\\delta^{(l)}_{j} = \\delta^{(l=1)}_{1}w^{(l)}_{1j}f'(z_{j})^{(l)}$$\n",
    "\n",
    "\n"
   ]
  },
  {
   "cell_type": "code",
   "execution_count": 95,
   "metadata": {
    "collapsed": false
   },
   "outputs": [
    {
     "data": {
      "text/plain": [
       "(1, 3)"
      ]
     },
     "execution_count": 95,
     "metadata": {},
     "output_type": "execute_result"
    }
   ],
   "source": [
    "NN = NeuralNet()\n",
    "\n",
    "print NN.forward_propagation(X[0:1])\n"
   ]
  },
  {
   "cell_type": "code",
   "execution_count": null,
   "metadata": {
    "collapsed": true
   },
   "outputs": [],
   "source": []
  },
  {
   "cell_type": "code",
   "execution_count": 35,
   "metadata": {
    "collapsed": false
   },
   "outputs": [],
   "source": [
    "NN  = Neural_Net()\n",
    "\n",
    "c1 = NN.cost_function_derivative(X, y)"
   ]
  },
  {
   "cell_type": "code",
   "execution_count": 36,
   "metadata": {
    "collapsed": true
   },
   "outputs": [],
   "source": [
    " a,b = NN.cost_function_derivative(X,y)"
   ]
  },
  {
   "cell_type": "code",
   "execution_count": 37,
   "metadata": {
    "collapsed": false
   },
   "outputs": [
    {
     "data": {
      "text/plain": [
       "array([[-0.06366729,  0.02766799,  0.25473514],\n",
       "       [-0.04287048,  0.01929333,  0.18918441]])"
      ]
     },
     "execution_count": 37,
     "metadata": {},
     "output_type": "execute_result"
    }
   ],
   "source": [
    "a"
   ]
  },
  {
   "cell_type": "code",
   "execution_count": 38,
   "metadata": {
    "collapsed": false
   },
   "outputs": [
    {
     "data": {
      "text/plain": [
       "array([[-0.2191875 ],\n",
       "       [-0.32555071],\n",
       "       [-0.19873838]])"
      ]
     },
     "execution_count": 38,
     "metadata": {},
     "output_type": "execute_result"
    }
   ],
   "source": [
    "b"
   ]
  },
  {
   "cell_type": "markdown",
   "metadata": {
    "collapsed": true
   },
   "source": [
    "$$c = \\sqrt{a^2 + b^2}$$"
   ]
  },
  {
   "cell_type": "code",
   "execution_count": null,
   "metadata": {
    "collapsed": true
   },
   "outputs": [],
   "source": []
  }
 ],
 "metadata": {
  "kernelspec": {
   "display_name": "Python 2",
   "language": "python",
   "name": "python2"
  },
  "language_info": {
   "codemirror_mode": {
    "name": "ipython",
    "version": 2
   },
   "file_extension": ".py",
   "mimetype": "text/x-python",
   "name": "python",
   "nbconvert_exporter": "python",
   "pygments_lexer": "ipython2",
   "version": "2.7.12"
  }
 },
 "nbformat": 4,
 "nbformat_minor": 1
}
